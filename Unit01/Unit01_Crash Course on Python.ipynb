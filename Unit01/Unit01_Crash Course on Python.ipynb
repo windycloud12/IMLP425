{
 "cells": [
  {
   "cell_type": "markdown",
   "metadata": {},
   "source": [
    "# Python programming \n",
    "## Crash Course on Python Coding Practice\n",
    "\n",
    "No matter the level of mastery you hope to get to in Python,<br> \n",
    "you'll need these fundamentals in place before you jump into any project.<br><br>\n",
    "\n",
    "You need to know how to:\n",
    "\n",
    "- declare variables\n",
    "- collect user input\n",
    "- store information\n",
    "- repeat an action through loops\n",
    "- write functions to repeat blocks of code\n"
   ]
  },
  {
   "cell_type": "markdown",
   "metadata": {},
   "source": [
    "### 01 - 奇偶數辨別（Odd or even）\n",
    "#### 當使用者輸入一個的數字，它能夠辨別奇偶，並輸出檢驗結果給使用者。\n",
    "\n",
    "> 題目：輸入一數字判斷奇數或偶數<br>\n",
    "輸入(Input): 一個數字 <br>\n",
    "輸出(Output):奇數或偶數\n",
    "\n",
    "* 進階: 可以限制輸入一個介於一定範圍（例如 1 到 1000）的數字"
   ]
  },
  {
   "cell_type": "code",
   "execution_count": 25,
   "metadata": {},
   "outputs": [
    {
     "name": "stdin",
     "output_type": "stream",
     "text": [
      "請輸入介於 1 ~ 1000 的數字:  55\n"
     ]
    },
    {
     "name": "stdout",
     "output_type": "stream",
     "text": [
      "奇數\n"
     ]
    }
   ],
   "source": [
    "def odd_or_event(number):\n",
    "    return '偶數' if number % 2 == 0 else '奇數'\n",
    "\n",
    "min_num = 1\n",
    "max_num = 1000\n",
    "user_in = int(input(f\"請輸入介於 {min_num} ~ {max_num} 的數字: \"))\n",
    "\n",
    "if min_num <= user_in <= max_num:\n",
    "    print(odd_or_event(user_in))\n",
    "else:\n",
    "    print(\"ERROR - 請輸入指定區間的數字\")"
   ]
  },
  {
   "cell_type": "markdown",
   "metadata": {},
   "source": [
    "### 02 - 填字遊戲（Mad libs game）\n",
    "#### 使用者輸入任何字，它可以是名詞、形容詞、動詞、代名詞等。程式得到文字後，可自行排列，組成成一個模板故事。\n",
    "\n",
    "> 題目：輸入一數字判斷奇數或偶數<br>\n",
    "輸入(Input): 一連串依據說明輸入對應文字 <br>\n",
    "輸出(Output): 模板故事\n",
    "\n",
    "* 進階: 可以讓程式重複執行"
   ]
  },
  {
   "cell_type": "code",
   "execution_count": 35,
   "metadata": {},
   "outputs": [
    {
     "name": "stdin",
     "output_type": "stream",
     "text": [
      "請問需要建造幾次模板故事：  2\n",
      "請輸入課程期數: 342\n",
      "請輸入課程名稱: python機器學習\n",
      "請輸入姓名: 江尚瑀\n",
      "請輸入您的背景(科系或職業): 資工訓練班學生\n",
      "請簡述對於本課程得期望(列出幾點修完課程想得到的技能/對自己未來的規劃): 機器學習\n"
     ]
    },
    {
     "name": "stdout",
     "output_type": "stream",
     "text": [
      "------------------------------------------\n",
      "第342期 - python機器學習\n",
      "姓名： 江尚瑀 ,\n",
      "學生背景： 資工訓練班學生\n",
      "==========================================\n",
      "江尚瑀 修習完課程[ python機器學習 ]後，\n",
      "結業成果獲得: 機器學習 。\n",
      "Well Done.\n",
      "------------------------------------------\n"
     ]
    },
    {
     "name": "stdin",
     "output_type": "stream",
     "text": [
      "請輸入課程期數: 342\n",
      "請輸入課程名稱: python機器學習\n",
      "請輸入姓名: 張玉琪\n",
      "請輸入您的背景(科系或職業): 資工訓練班學生\n",
      "請簡述對於本課程得期望(列出幾點修完課程想得到的技能/對自己未來的規劃): 機器學習\n"
     ]
    },
    {
     "name": "stdout",
     "output_type": "stream",
     "text": [
      "------------------------------------------\n",
      "第342期 - python機器學習\n",
      "姓名： 張玉琪 ,\n",
      "學生背景： 資工訓練班學生\n",
      "==========================================\n",
      "張玉琪 修習完課程[ python機器學習 ]後，\n",
      "結業成果獲得: 機器學習 。\n",
      "Well Done.\n",
      "------------------------------------------\n"
     ]
    }
   ],
   "source": [
    "count = int(input(\"請問需要建造幾次模板故事： \"))\n",
    "while count > 0:\n",
    "    num = int(input(\"請輸入課程期數:\"))\n",
    "    course_name = input(\"請輸入課程名稱:\")\n",
    "    student_name = input(\"請輸入姓名:\")\n",
    "    background = input(\"請輸入您的背景(科系或職業):\")\n",
    "    wish = input(\"請簡述對於本課程得期望(列出幾點修完課程想得到的技能/對自己未來的規劃):\")\n",
    "\n",
    "    print(\"------------------------------------------\")\n",
    "    print(f\"第{num}期 - {course_name}\")\n",
    "    print(f\"姓名： {student_name} ,\")\n",
    "    print(f\"學生背景： {background}\")\n",
    "    print(\"==========================================\")\n",
    "    print(f\"{student_name} 修習完課程[ {course_name} ]後，\")\n",
    "    print(f\"結業成果獲得: {wish} 。\")\n",
    "    print(\"Well Done.\")\n",
    "    print(\"------------------------------------------\")\n",
    "\n",
    "    count -= 1\n",
    "    "
   ]
  },
  {
   "cell_type": "markdown",
   "metadata": {},
   "source": [
    "### 03 -  猜數字（Guess the number）\n",
    "#### 請使用者猜一個介於範圍（例如 1 到 100）之間的數字，\n",
    "#### 若使用者猜錯，就詢問他們想繼續玩還是退出；若使用者猜對，就顯示祝賀訊息，\n",
    "#### 並統計使用者的嘗試次數。如果使用者輸入的數字超出設定範圍，就顯示錯誤提示。\n",
    "\n",
    "![](data\\guess.png)\n"
   ]
  },
  {
   "cell_type": "code",
   "execution_count": 12,
   "metadata": {},
   "outputs": [
    {
     "name": "stdout",
     "output_type": "stream",
     "text": [
      "======= 猜數字遊戲 =======\n"
     ]
    },
    {
     "name": "stdin",
     "output_type": "stream",
     "text": [
      "猜數字範圍 0 < ? < 100 的數字:  55\n"
     ]
    },
    {
     "name": "stdout",
     "output_type": "stream",
     "text": [
      "再大一點!! 您猜了 1 次\n",
      "\n"
     ]
    },
    {
     "name": "stdin",
     "output_type": "stream",
     "text": [
      "猜數字範圍 55 < ? < 100 的數字:  77\n"
     ]
    },
    {
     "name": "stdout",
     "output_type": "stream",
     "text": [
      "再大一點!! 您猜了 2 次\n",
      "\n"
     ]
    },
    {
     "name": "stdin",
     "output_type": "stream",
     "text": [
      "猜數字範圍 77 < ? < 100 的數字:  80\n"
     ]
    },
    {
     "name": "stdout",
     "output_type": "stream",
     "text": [
      "再大一點!! 您猜了 3 次\n",
      "\n"
     ]
    },
    {
     "name": "stdin",
     "output_type": "stream",
     "text": [
      "猜數字範圍 80 < ? < 100 的數字:  90\n"
     ]
    },
    {
     "name": "stdout",
     "output_type": "stream",
     "text": [
      "再大一點!! 您猜了 4 次\n",
      "\n"
     ]
    },
    {
     "name": "stdin",
     "output_type": "stream",
     "text": [
      "猜數字範圍 90 < ? < 100 的數字:  96\n"
     ]
    },
    {
     "name": "stdout",
     "output_type": "stream",
     "text": [
      "再小一點!! 您猜了 5 次\n",
      "\n"
     ]
    },
    {
     "name": "stdin",
     "output_type": "stream",
     "text": [
      "猜數字範圍 90 < ? < 96 的數字:  95\n"
     ]
    },
    {
     "name": "stdout",
     "output_type": "stream",
     "text": [
      "賓果! 猜對了, 答案是 95\n"
     ]
    }
   ],
   "source": [
    "import random\n",
    "\n",
    "print(\"======= 猜數字遊戲 =======\")\n",
    "min_num = 0\n",
    "max_num = 100\n",
    "number = random.randrange(min_num+1,max_num)\n",
    "\n",
    "guess_count = 0\n",
    "while True:\n",
    "    user_in = int(input(f\"猜數字範圍 {min_num} < ? < {max_num} 的數字: \"))\n",
    "    guess_count += 1\n",
    "    \n",
    "    if number == user_in:\n",
    "        print(f\"賓果! 猜對了, 答案是 {number}\")\n",
    "        break\n",
    "    elif number > user_in:\n",
    "        min_num = user_in\n",
    "        print(f\"再大一點!! 您猜了 {guess_count} 次\\n\")\n",
    "    else:\n",
    "        max_num = user_in\n",
    "        print(f\"再小一點!! 您猜了 {guess_count} 次\\n\")\n",
    "        \n"
   ]
  },
  {
   "cell_type": "markdown",
   "metadata": {},
   "source": [
    "### 04 - 計算字數（Word count）\n",
    "#### 使用者輸入一段文字或讀取一檔案，程式統計字數。\n",
    "\n",
    "> 輸入(Input):我要成為寫程式的專家 <br>\n",
    "輸出(Output):你用了 10 個文字述說內心的想法\n",
    "\n",
    "#### 在特定的文章字串中搜尋輸入的特定字，請使用者輸入欲搜尋的文字，印出總共有幾個。<br>\n",
    ">輸入(Input):天<br>\n",
    "輸出(Output): 9\n",
    "\n",
    "* 進階:計算文章中去除標點符號後的字數，找出文章中出現最多的字與次數"
   ]
  },
  {
   "cell_type": "code",
   "execution_count": 34,
   "metadata": {},
   "outputs": [
    {
     "name": "stdin",
     "output_type": "stream",
     "text": [
      " 今天星期五\n"
     ]
    },
    {
     "name": "stdout",
     "output_type": "stream",
     "text": [
      "你用了 5 個文字述說內心的想法\n",
      "------------------------------------------\n"
     ]
    },
    {
     "name": "stdin",
     "output_type": "stream",
     "text": [
      "請輸入欲查找的文字:  天\n"
     ]
    },
    {
     "name": "stdout",
     "output_type": "stream",
     "text": [
      "9\n",
      "------------------------------------------\n",
      "文章總字數: 840\n",
      "\"不\" 出現了 14 次, 為出現最多的字\n"
     ]
    }
   ],
   "source": [
    "import re\n",
    "\n",
    "word = input()\n",
    "print(\"你用了 %d 個文字述說內心的想法\"%(len(word)))\n",
    "\n",
    "\n",
    "s = '''漢皇重色思傾國，御宇多年求不得。\n",
    "\n",
    "楊家有女初長成，養在深閏人未識。\n",
    "\n",
    "天生麗質難自棄，一朝選在君王側。\n",
    "\n",
    "回眸一笑百媚生，六宮粉黛無顏色。\n",
    "\n",
    "春寒賜浴華清池，溫泉水滑洗凝脂；\n",
    "\n",
    "侍兒扶起嬌無力，始是新承恩澤時。\n",
    "\n",
    "雲鬢花顏金步搖，芙蓉帳暖度春宵；\n",
    "\n",
    "春宵苦短日高起，從此君王不早朝。\n",
    "\n",
    "承歡侍宴無閑暇，春從春遊夜專夜。\n",
    "\n",
    "後宮佳麗三千人，三千寵愛在一身。\n",
    "\n",
    "金屋妝成嬌侍夜，玉樓宴罷醉和春。\n",
    "\n",
    "姊妹弟兄皆列士，可憐光彩生門戶。\n",
    "\n",
    "遂令天下父母心，不重生男重生女。\n",
    "\n",
    "驪宮高處入青雲，仙樂風飄處處聞。\n",
    "\n",
    "緩歌慢舞凝絲竹，盡日君王看不足。\n",
    "\n",
    "漁陽鼙鼓動地來，驚破霓裳羽衣曲。\n",
    "\n",
    "九重城闕煙塵生，千乘萬騎西南行。\n",
    "\n",
    "翠華搖搖行復止，西出都門百餘里；\n",
    "\n",
    "六軍不發無奈何？宛轉蛾眉馬前死。\n",
    "\n",
    "花鈿委地無人收，翠翹金雀玉搔頭。\n",
    "\n",
    "君王掩面救不得，回看血淚相和流。\n",
    "\n",
    "黃埃散漫風蕭索，雲棧縈紆登劍閣。\n",
    "\n",
    "峨嵋山下少人行，旌旗無光日色薄。\n",
    "\n",
    "蜀江水碧蜀山青，聖主朝朝暮暮情。\n",
    "\n",
    "行宮見月傷心色，夜雨聞鈴腸斷聲。\n",
    "\n",
    "天旋地轉迴龍馭，到此躊躇不能去。\n",
    "\n",
    "馬嵬坡下泥土中，不見玉顏空死處。\n",
    "\n",
    "君臣相顧盡霑衣，東望都門信馬歸。\n",
    "\n",
    "歸來池苑皆依舊，太液芙蓉未央柳；\n",
    "\n",
    "芙蓉如面柳如眉，對此如何不淚垂？\n",
    "\n",
    "春風桃李花開日，秋雨梧桐葉落時。\n",
    "\n",
    "西宮南內多秋草，落葉滿階紅不掃。\n",
    "\n",
    "梨園子弟白髮新，椒房阿監青娥老。\n",
    "\n",
    "夕殿螢飛思悄然，孤燈挑盡未成眠。\n",
    "\n",
    "遲遲鐘鼓初長夜，耿耿星河欲曙天。\n",
    "\n",
    "鴛鴦瓦冷霜華重，翡翠衾寒誰與共？\n",
    "\n",
    "悠悠生死別經年，魂魄不曾來入夢。\n",
    "\n",
    "臨邛道士鴻都客，能以精誠致魂魄；\n",
    "\n",
    "為感君王輾轉思，遂教方士殷勤覓。\n",
    "\n",
    "排空馭氣奔如電，升天入地求之遍；\n",
    "\n",
    "上窮碧落下黃泉，兩處茫茫皆不見。\n",
    "\n",
    "忽聞海上有仙山，山在虛無縹緲間。\n",
    "\n",
    "樓閣玲瓏五雲起，其中綽約多仙子。\n",
    "\n",
    "中有一人字太真，雪膚花貌參差是。\n",
    "\n",
    "金闕西廂叩玉扃，轉教小玉報雙成。\n",
    "\n",
    "聞道漢家天子使，九華帳裡夢魂驚；\n",
    "\n",
    "攬衣推枕起徘徊，珠箔銀屏迤邐開。\n",
    "\n",
    "雲鬢半偏新睡覺，花冠不整下堂來。\n",
    "\n",
    "風吹仙袂飄飄舉，猶似霓裳羽衣舞。\n",
    "\n",
    "玉容寂寞淚闌干，梨花一枝春帶雨。\n",
    "\n",
    "含情凝睇謝君王，一別音容兩渺茫。\n",
    "\n",
    "昭陽殿裡恩愛絕，蓬萊宮中日月長。\n",
    "\n",
    "回頭下望人寰處，不見長安見塵霧。\n",
    "\n",
    "唯將舊物表深情，鈿合金釵寄將去。\n",
    "\n",
    "釵留一股合一扇，釵擘黃金合分鈿。\n",
    "\n",
    "但教心似金鈿堅，天上人間會相見。\n",
    "\n",
    "臨別殷勤重寄詞，詞中有誓兩心知，\n",
    "\n",
    "七月七日長生殿，夜半無人私語時：「\n",
    "\n",
    "在天願作比翼鳥，在地願為連理枝。」\n",
    "\n",
    "天長地久有時盡，此恨綿綿無絕期。\n",
    "'''\n",
    "\n",
    "print (\"------------------------------------------\")\n",
    "#請使用者輸入一文字\n",
    "search_word_in = input(\"請輸入欲查找的文字: \")\n",
    "#計算該文字在文章出現次數\n",
    "count = s.count(search_word_in)\n",
    "#列印出現次數\n",
    "print(count)\n",
    "\n",
    "print (\"------------------------------------------\")\n",
    "#把文字中 '。，\\n；：？「」'的標點符號去除\n",
    "s = re.sub(\"['。，\\n；：？「」']\", \"\", s)\n",
    "\n",
    "#目前已知出現最多次的字的次數\n",
    "count_of_word = 0\n",
    "#目前已知出現最多次的字\n",
    "maxchar = \"\"\n",
    "\n",
    "print('文章總字數:',len(s))\n",
    "\n",
    "for astr in s:\n",
    "    #print(astr)\n",
    "    act=s.count(astr)\n",
    "    # 如果 現在這個字出現的次數(act) 大於 目前已知出現最多次字的次數\n",
    "    if act > count_of_word:\n",
    "        #就讓 現在這個字出現的次數 成為 目前已知出現最多次的字的次數\n",
    "        count_of_word = act\n",
    "        #還要記錄 現在這個字(astr) 到 目前已知出現最多次的字\n",
    "        maxchar = astr\n",
    "else:\n",
    "    print(f\"\\\"{maxchar}\\\" 出現了 {count_of_word} 次, 為出現最多的字\")"
   ]
  },
  {
   "cell_type": "markdown",
   "metadata": {},
   "source": [
    "### 05 - Email 域名判斷器（Email slicer）\n",
    "#### 請用戶輸入 Email 地址，然後判斷它是自定義域名還是熱門域名。\n",
    "\n",
    "> 題目：<br>\n",
    "輸入(Input):shelly200318@hotmail.com.tw  <br>\n",
    "輸出(Output):Your username is 'shelly200318' and your domain name is 'hotmail.com.tw' <br>\n",
    "\n",
    "\n",
    "* 進階：把常用的信箱存成字典，加入判斷是否為\n",
    ">輸入(Input):mary.jane@gmail.com  <br>\n",
    "輸出(Output):這是註冊在 Google 之下的 Email 地址 <br>\n",
    "輸入(Input):matt.pan@myfantasy.com  <br>\n",
    "輸出(Output):這是在 myfantasy 之下自定義域\n",
    "\n"
   ]
  },
  {
   "cell_type": "code",
   "execution_count": 52,
   "metadata": {},
   "outputs": [
    {
     "name": "stdin",
     "output_type": "stream",
     "text": [
      "What is your email address?:  aaa@ntut.org.tw\n"
     ]
    },
    {
     "name": "stdout",
     "output_type": "stream",
     "text": [
      "Your username is 'aaa' and your domain name is 'ntut.org.tw'\n",
      "這是在 ntut 之下自定義域\n"
     ]
    }
   ],
   "source": [
    "# Get user email address\n",
    "email = input(\"What is your email address?: \").strip()\n",
    "\n",
    "# Slice out the user name\n",
    "idx_at = email.find(\"@\")\n",
    "user_name = email[0:idx_at]\n",
    "\n",
    "# Slice the domain name\n",
    "domain_name = email[idx_at+1:]\n",
    "\n",
    "# Format message\n",
    "output = f\"Your username is '{user_name}' and your domain name is '{domain_name}'\"\n",
    "\n",
    "# Display output message\n",
    "print(output)\n",
    "\n",
    "# aaa@ntut.org.tw\n",
    "domain = {'gmail.com':'Google','yahoo.com.tw':'Yahoo','ntu.edu.tw':'臺大','hotmail.com.tw':'Hotmail','hotmail.com':'Hotmail'}\n",
    "if domain_name in domain:\n",
    "    output = f\"這是註冊在 {domain[domain_name]} 之下的 Email 地址'\"\n",
    "else:\n",
    "    idx_dot = domain_name.find(\".\")\n",
    "    idx_dot = idx_dot if idx_dot > 0 else len(domain_name)\n",
    "    domain_customize = domain_name[0:idx_dot]\n",
    "    output = f\"這是在 {domain_customize} 之下自定義域\"\n",
    "print(output)"
   ]
  },
  {
   "cell_type": "markdown",
   "metadata": {},
   "source": [
    "### 06 - 及格名單（Pass list）\n",
    "#### 請使用集合功能來完成各科級名單的判斷\n",
    "```\n",
    "米花市帝丹小學一年级B班正舉辦期中考試\n",
    "數學及格的有：柯南、灰原、步美、美環、光彦\n",
    "英文及格的有：柯南、灰原、丸尾、野口、步美\n",
    "以上已列出全班所有人\n",
    "```\n",
    "\n",
    ">請分別列出<br>\n",
    "數學及格但英文不及格的同學名單<br>\n",
    "數學不及格但英文及格的同學名單<br>\n",
    "兩者皆及格名單<br>\n",
    "* Hint:差集(減法)、交集\n"
   ]
  },
  {
   "cell_type": "code",
   "execution_count": 118,
   "metadata": {},
   "outputs": [
    {
     "name": "stdout",
     "output_type": "stream",
     "text": [
      "['光彦', '美環']\n",
      "['丸尾', '野口']\n",
      "['柯南', '步美', '灰原']\n"
     ]
    }
   ],
   "source": [
    "m={'柯南','灰原','步美','美環','光彦'}\n",
    "e={'柯南','灰原','丸尾','野口','步美'}\n",
    "a=m.intersection(e)\n",
    "b=m.difference(a)\n",
    "c=e.difference(a)\n",
    "a1=list(a)\n",
    "b1=list(b)\n",
    "c1=list(c)\n",
    "b1.sort()\n",
    "print(b1)\n",
    "c1.sort()\n",
    "print(c1)\n",
    "a1.sort()\n",
    "print(a1)\n"
   ]
  },
  {
   "cell_type": "markdown",
   "metadata": {},
   "source": [
    "### 07 - 查詢路徑下所有檔案\n",
    "#### 請使用者輸入路徑，自動抓取路徑下所有檔案名稱\n",
    "\n",
    ">輸入(Input):data\\testfile 或 D:\\code\\ML_202105\\data\\testfile  <br>\n",
    "輸出(Output):\n",
    "```\n",
    "I'm a directory: file1\n",
    "I'm a directory: file2\n",
    "I'm a File: hw_07945001.txt\n",
    "I'm a File: hw_079450010.doc\n",
    "I'm a File: hw_07945002.txt\n",
    "I'm a File: hw_07945003.txt\n",
    "I'm a File: hw_07945004.txt\n",
    "I'm a File: hw_07945005.txt\n",
    "I'm a File: hw_07945007.txt\n",
    "I'm a File: hw_07945008.txt\n",
    "I'm a File: hw_07945009.txt\n",
    "```\n",
    "\n",
    "* 進階: 把file的學號抓出來，另存成一個新的csv檔"
   ]
  },
  {
   "cell_type": "code",
   "execution_count": 78,
   "metadata": {},
   "outputs": [
    {
     "name": "stdin",
     "output_type": "stream",
     "text": [
      " C:\\Users\\amyae\\workplace\\Courses\\IMLP425\\Unit01\\Unit01\\testfile\n"
     ]
    },
    {
     "name": "stdout",
     "output_type": "stream",
     "text": [
      "I'm a directory: file1\n",
      "I'm a directory: file2\n",
      "I'm a File: hw_07945001.txt\n",
      "I'm a File: hw_079450010.doc\n",
      "I'm a File: hw_07945002.txt\n",
      "I'm a File: hw_07945003.txt\n",
      "I'm a File: hw_07945004.txt\n",
      "I'm a File: hw_07945005.txt\n",
      "I'm a File: hw_07945007.txt\n",
      "I'm a File: hw_07945008.txt\n",
      "I'm a File: hw_07945009.txt\n",
      "學號清單存於: C:\\Users\\amyae\\workplace\\Courses\\IMLP425\\Unit01\\Unit01\\student_number_list.csv\n"
     ]
    }
   ],
   "source": [
    "import os\n",
    "\n",
    "# 請使用者輸入或指定要查詢的路徑\n",
    "yourPath = input()\n",
    "# 列出指定路徑底下所有檔案(包含資料夾)\n",
    "allFileList = os.listdir(yourPath)\n",
    "\n",
    "number_list = []\n",
    "\n",
    "# 逐一查詢檔案清單\n",
    "for file in allFileList:\n",
    "#   這邊也可以視情況，做檔案的操作(複製、讀取...等)\n",
    "#   使用isdir檢查是否為目錄\n",
    "#   使用join的方式把路徑與檔案名稱串起來(等同filePath+fileName)\n",
    "    if os.path.isdir(os.path.join(yourPath,file)):\n",
    "        print(\"I'm a directory: \" + file)\n",
    "    #   使用isfile判斷是否為檔案\n",
    "    elif os.path.isfile(os.path.join(yourPath,file)):\n",
    "        print(\"I'm a File: \" + file)\n",
    "        num = file[file.index('_')+1:file.index('.')]\n",
    "        number_list.append(num)\n",
    "\n",
    "student_number_filename= 'student_number_list.csv'\n",
    "student_number_fullpath = os.path.join(os.getcwd(),student_number_filename)\n",
    "with open(student_number_fullpath, 'w') as file:\n",
    "    file.write('\\n'.join(number_list))\n",
    "    print(f'學號清單存於: {student_number_fullpath}')"
   ]
  },
  {
   "cell_type": "markdown",
   "metadata": {},
   "source": [
    "### 08 - 資料夾管理(shutil)\n",
    "#### 說明 ####\n",
    "\n",
    "```\n",
    "在目前所在的目錄下建立一files資料夾\n",
    "\n",
    "令使用者輸入一數字N，並在files資料夾中建立f1, f2… fN等N個資料夾後列出files的資料夾內容\n",
    "\n",
    "將files資料夾裡的f1資料夾重新命名成folder1後再列出files的資料夾內容\n",
    "\n",
    "移除files資料夾中的folder1後再列出files的資料夾內容\n",
    "\n",
    "最後移除files資料夾\n",
    "※須先退出files資料夾(os.chdir(../)) ![image.png](attachment:image.png)\n",
    "```\n"
   ]
  },
  {
   "cell_type": "code",
   "execution_count": 86,
   "metadata": {},
   "outputs": [
    {
     "name": "stdin",
     "output_type": "stream",
     "text": [
      " 5\n"
     ]
    },
    {
     "name": "stdout",
     "output_type": "stream",
     "text": [
      "['f1', 'f2', 'f3', 'f4', 'f5']\n",
      "Enter\n",
      "['f2', 'f3', 'f4', 'f5', 'folder1']\n",
      "Enter\n",
      "['f2', 'f3', 'f4', 'f5']\n",
      "Enter\n"
     ]
    }
   ],
   "source": [
    "import os\n",
    "import shutil\n",
    "\n",
    "def print_folder(path):\n",
    "    \"\"\" 印出路徑下所有檔案名字 \"\"\"\n",
    "    allFileList = os.listdir(path)\n",
    "    print(allFileList)\n",
    "\n",
    "def create_folder(path, number):\n",
    "    \"\"\" 建立數個資料夾 \"\"\"\n",
    "    for idx in range(1, number+1):\n",
    "        folder_path = os.path.join(path, f\"f{idx}\")\n",
    "        \n",
    "        if not os.path.exists(folder_path):\n",
    "            os.mkdir(folder_path)\n",
    "\n",
    "# 取得現在路徑\n",
    "current_dir_path = os.getcwd()\n",
    "files_dir_path = os.path.join(current_dir_path, 'files')\n",
    "\n",
    "# 建立 files\n",
    "if os.path.exists(files_dir_path):\n",
    "    shutil.rmtree(files_dir_path)\n",
    "os.mkdir(files_dir_path)\n",
    "\n",
    "# 使用者輸入\n",
    "n = int(input())\n",
    "\n",
    "# 建立數個資料夾在 files 內\n",
    "create_folder(files_dir_path, n)\n",
    "print_folder(files_dir_path)\n",
    "print('Enter')\n",
    "\n",
    "# 重新命名: f1 -> folder1\n",
    "os.rename(os.path.join(files_dir_path, 'f1'), os.path.join(files_dir_path, 'folder1'))\n",
    "print_folder(files_dir_path)\n",
    "print('Enter')\n",
    "\n",
    "# 刪除 folder1\n",
    "shutil.rmtree(os.path.join(files_dir_path, 'folder1'))\n",
    "print_folder(files_dir_path)\n",
    "print('Enter')\n",
    "\n",
    "# 刪除 files\n",
    "shutil.rmtree(files_dir_path)"
   ]
  },
  {
   "cell_type": "markdown",
   "metadata": {},
   "source": [
    "### 09 - 回文判斷（Is a palindrome）\n",
    "#### 請使用者輸入單字，判斷它是否為回文，也就是該單字前後對稱，例如 madam，從前讀到後或是從後讀到前的順序都是 madam。\n",
    "\n",
    "> 題目：<br>\n",
    "輸入(Input): 雨 滋 春 樹 碧 連 天  天 連 碧 樹 春 滋 雨 <br>\n",
    "輸出(Output):The text you have entered is a palindrome!<br>\n",
    "輸入(Input): 資工訓練班 <br>\n",
    "輸出(Output):The text you have entered is not a palindrome.\n"
   ]
  },
  {
   "cell_type": "code",
   "execution_count": 114,
   "metadata": {},
   "outputs": [
    {
     "name": "stdout",
     "output_type": "stream",
     "text": [
      "\n",
      "Palindrome checker\n"
     ]
    },
    {
     "name": "stdin",
     "output_type": "stream",
     "text": [
      "\n",
      "Please enter a word, phrase, or a sentence \n",
      "to check if it is a palindrome:  雨 滋 春 樹 碧 連 天 天 連 碧 樹 春 滋 雨\n"
     ]
    },
    {
     "name": "stdout",
     "output_type": "stream",
     "text": [
      "The text you have entered is a palindrome!\n"
     ]
    }
   ],
   "source": [
    "def convertInputString():\n",
    "    #請使用者輸入一串字串，先轉換字串為統一小寫\n",
    "    rawInput = input(\"\\nPlease enter a word, phrase, or a sentence \\nto check if it is a palindrome: \") \n",
    "    return rawInput\n",
    "\n",
    "def stripAnalphabetics(dirtyList): \n",
    "    analphabeticList = [\" \", \"-\", \".\", \",\", \":\", \";\", \"!\", \"?\", \"'\", \"\\\"\"] \n",
    "    #去除相關標點符號\n",
    "    straightList = dirtyList\n",
    "    for c in analphabeticList:\n",
    "        straightList = straightList.replace(c,'')\n",
    "    \n",
    "    return straightList\n",
    "\n",
    "def runPalindromeCheck(straightList):\n",
    "    reversedList = straightList[::-1] \n",
    "    \n",
    "    if reversedList == straightList:\n",
    "        return \"The text you have entered is a palindrome!\" \n",
    "    else: \n",
    "        return \"The text you have entered is not a palindrome.\" \n",
    "\n",
    "def main(): \n",
    "    print(\"\\nPalindrome checker\")\n",
    "    rawInput = convertInputString()\n",
    "    straightList = stripAnalphabetics(rawInput)\n",
    "    msg = runPalindromeCheck(straightList)\n",
    "    print(msg)\n",
    "\n",
    "\n",
    "main() "
   ]
  },
  {
   "cell_type": "markdown",
   "metadata": {},
   "source": [
    "### 10 - 總成績計算\n",
    "#### 說明 ####\n",
    "\n",
    "請讀取 `data/english_list.csv`與`data/math_list.csv`檔案(`utf-8`)後，將每位同學的英文與數學成績加總起來，並將檔案寫入至 `./Score.csv`中，編碼成`utf-8`<br>\n",
    "最後列印出每位學生姓名與加總後的分數<br>\n",
    "<a href=\"data\\english_list.csv\">英文成績下載</a><br>\n",
    "<a href=\"data\\math_list.csv\">數學成績下載</a><br>\n",
    "\n",
    "#### Input Format ####\n",
    "\n",
    "<br>\n",
    "csv資料(英文成績)<br>\n",
    "csv資料(數學成績)<br>\n",
    "<br>\n",
    "\n",
    "#### Output Format ####\n",
    "\n",
    "<br>\n",
    "\n",
    "![](data\\05.JPG)<br>\n",
    "<br>\n",
    "<br>\n",
    "(圖片參考用 以文字敘述為準)<br>\n",
    "\n",
    "\n",
    "\n",
    "\n",
    "#### Sample Input 1####\n",
    "\n",
    "\n",
    "\n",
    "```\n",
    "無標準輸入，只有檔案輸入\n",
    "```\n",
    "\n",
    "\n",
    "\n",
    "#### Sample Output 1####\n",
    "\n",
    "\n",
    "```\n",
    "廖冠霖 142\n",
    "王力中 124\n",
    "張平舜 108\n",
    ".\n",
    ".\n",
    ".\n",
    ".\n",
    ".\n",
    "陳姿茜 77\n",
    "涂珮瑜 134\n",
    "夏明哲 111\n",
    "\n",
    "```\n",
    "\n",
    "\n",
    "#### Hint ####\n",
    "\n",
    "\n",
    "\n",
    "```\n",
    "None\n",
    "```\n"
   ]
  },
  {
   "cell_type": "code",
   "execution_count": 116,
   "metadata": {},
   "outputs": [
    {
     "name": "stdout",
     "output_type": "stream",
     "text": [
      "廖冠霖 142\n",
      "王力中 124\n",
      "張平舜 108\n",
      "洪婷婷 128\n",
      "林士雨 86\n",
      "陳宗翰 28\n",
      "洪偉珊 134\n",
      "顏又芹 32\n",
      "王亦夏 55\n",
      "姚成華 77\n",
      "潘詠月 144\n",
      "倪浩迪 163\n",
      "郭心怡 109\n",
      "黃政聖 99\n",
      "顏曉雲 135\n",
      "彭曉雯 77\n",
      "葉健仁 117\n",
      "賴軒年 167\n",
      "韓致遠 52\n",
      "陳常芝 80\n",
      "黃佩樺 108\n",
      "林詩虹 178\n",
      "黃心卿 96\n",
      "郭奕全 101\n",
      "游子揚 127\n",
      "杜茜行 107\n",
      "李美一 64\n",
      "陳姿茜 77\n",
      "涂珮瑜 134\n",
      "夏明哲 111\n"
     ]
    },
    {
     "data": {
      "text/plain": [
       "'\\nline=\\'\\'\\nfout = open(\"Score.csv\",\"r\")\\nfor i in (len(name)):\\n    print()\\n'"
      ]
     },
     "execution_count": 116,
     "metadata": {},
     "output_type": "execute_result"
    }
   ],
   "source": [
    "fin_E = open('data/english_list.csv',\"r\",encoding='UTF-8')\n",
    "fin_M = open('data/math_list.csv',\"r\",encoding='UTF-8')\n",
    "lisE=[]\n",
    "lisM=[]\n",
    "name=[]\n",
    "for line in fin_E.readlines():\n",
    "    line = line.strip().split(\",\")\n",
    "    name.append(line[0])\n",
    "    lisE.append(line[1])\n",
    "    \n",
    "for line in fin_M.readlines():\n",
    "    line = line.strip().split(\",\")\n",
    "    lisM.append(line[1])\n",
    "    \n",
    "score=[]\n",
    "fout = open(\"data/Score.csv\",\"w\")\n",
    "line=''\n",
    "for i in range(1,len(name)):\n",
    "    score.append(int(lisE[i])+int(lisM[i]))\n",
    "    list1 = [name[i],str(score[i-1]),\"\\n\"]\n",
    "    print(name[i],str(score[i-1]))\n",
    "    \n",
    "    line = \",\".join(list1)\n",
    "    fout.write(line)\n",
    "fin_E.close()\n",
    "fin_M.close()\n",
    "fout.close()\n",
    "'''\n",
    "line=''\n",
    "fout = open(\"Score.csv\",\"r\")\n",
    "for i in (len(name)):\n",
    "    print()\n",
    "'''\n"
   ]
  },
  {
   "cell_type": "code",
   "execution_count": null,
   "metadata": {},
   "outputs": [],
   "source": []
  }
 ],
 "metadata": {
  "kernelspec": {
   "display_name": "Python 3 (ipykernel)",
   "language": "python",
   "name": "python3"
  },
  "language_info": {
   "codemirror_mode": {
    "name": "ipython",
    "version": 3
   },
   "file_extension": ".py",
   "mimetype": "text/x-python",
   "name": "python",
   "nbconvert_exporter": "python",
   "pygments_lexer": "ipython3",
   "version": "3.12.4"
  }
 },
 "nbformat": 4,
 "nbformat_minor": 4
}
